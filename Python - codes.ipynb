{
 "cells": [
  {
   "cell_type": "markdown",
   "metadata": {},
   "source": [
    "## Quadratic equation solver"
   ]
  },
  {
   "cell_type": "code",
   "execution_count": 1,
   "metadata": {},
   "outputs": [
    {
     "name": "stdout",
     "output_type": "stream",
     "text": [
      "Insert coefficient a: 0\n",
      "Insert non-zero coefficient for a: 1\n",
      "Insert coefficient b: 2\n",
      "Insert coefficient c: 3\n",
      "The function has two complex (conjugate) roots:  (-1-1.4142135623730951j)  and  (-1+1.4142135623730951j)\n"
     ]
    }
   ],
   "source": [
    "import math, cmath\n",
    "\n",
    "# User inserting the values of a, b and c\n",
    "\n",
    "a = float(input(\"Insert coefficient a: \"))\n",
    "if a == 0:\n",
    "    a = float(input(\"Insert non-zero coefficient for a: \"))\n",
    "b = float(input(\"Insert coefficient b: \"))\n",
    "c = float(input(\"Insert coefficient c: \"))\n",
    "\n",
    "\n",
    "# Calculating the discriminant \n",
    "d = b**2 - 4 * a * c\n",
    "\n",
    "if d >= 0:\n",
    "    x_1=(-b+math.sqrt(d))/2*a\n",
    "    x_2=(-b-math.sqrt(d))/2*a\n",
    "else:\n",
    "    x_1= (-b-cmath.sqrt(d))/(2*a)\n",
    "    x_2= (-b+cmath.sqrt(d))/(2*a)\n",
    "\n",
    "if d > 0:\n",
    "    print(\"The function has two distinct real roots: \", x_1, \" and \", x_2)\n",
    "elif d == 0:\n",
    "    print(\"The function has one double root: \", x_1)\n",
    "else:\n",
    "    print(\"The function has two complex (conjugate) roots: \", x_1, \" and \", x_2)"
   ]
  },
  {
   "cell_type": "markdown",
   "metadata": {},
   "source": [
    "### Find the sum of first ‘n’ natural numbers without using any loop."
   ]
  },
  {
   "cell_type": "code",
   "execution_count": 2,
   "metadata": {},
   "outputs": [
    {
     "name": "stdout",
     "output_type": "stream",
     "text": [
      "Enter the number upto which sum needs to be calculated: 0\n",
      "Enter the non zero number upto which sum needs to be calculated: 4\n",
      "The sum of first ‘n’ natural numbers without using any loop is:  10.0\n"
     ]
    }
   ],
   "source": [
    "n = int(input('Enter the number upto which sum needs to be calculated: '))\n",
    "\n",
    "if n == 0:\n",
    "    n = int(input('Enter the non zero number upto which sum needs to be calculated: '))\n",
    "            \n",
    "sum = (n*(n+1))/2\n",
    "print('The sum of first ‘n’ natural numbers without using any loop is: ',sum)"
   ]
  }
 ],
 "metadata": {
  "kernelspec": {
   "display_name": "Python 3",
   "language": "python",
   "name": "python3"
  },
  "language_info": {
   "codemirror_mode": {
    "name": "ipython",
    "version": 3
   },
   "file_extension": ".py",
   "mimetype": "text/x-python",
   "name": "python",
   "nbconvert_exporter": "python",
   "pygments_lexer": "ipython3",
   "version": "3.7.4"
  }
 },
 "nbformat": 4,
 "nbformat_minor": 2
}
