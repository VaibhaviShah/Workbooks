{
 "cells": [
  {
   "cell_type": "markdown",
   "metadata": {},
   "source": [
    "11. Write a python program to find the factorial of a number. "
   ]
  },
  {
   "cell_type": "code",
   "execution_count": 1,
   "metadata": {},
   "outputs": [
    {
     "data": {
      "text/plain": [
       "6"
      ]
     },
     "execution_count": 1,
     "metadata": {},
     "output_type": "execute_result"
    }
   ],
   "source": [
    "def fact(n):\n",
    "    return 1 if (n==1 or n==0) else n*fact(n-1)\n",
    "\n",
    "fact(3)"
   ]
  },
  {
   "cell_type": "markdown",
   "metadata": {},
   "source": [
    "12. Write a python program to find whether a number is prime or composite. "
   ]
  },
  {
   "cell_type": "code",
   "execution_count": 2,
   "metadata": {},
   "outputs": [],
   "source": [
    "def chk_prime(num):\n",
    "    if num > 1:\n",
    "        for i in range(2, num//2):\n",
    "            if (num % i)== 0:\n",
    "                print(\"Number {} is Composite\".format(num)) \n",
    "                break\n",
    "        else:\n",
    "            print(\"Number {} is prime\".format(num))\n",
    "    else:\n",
    "        print(\"Number {} is Composite\".format(num))"
   ]
  },
  {
   "cell_type": "code",
   "execution_count": 3,
   "metadata": {},
   "outputs": [
    {
     "name": "stdout",
     "output_type": "stream",
     "text": [
      "Number 3 is prime\n",
      "Number 10 is Composite\n"
     ]
    }
   ],
   "source": [
    "(chk_prime(3))\n",
    "(chk_prime(10))"
   ]
  },
  {
   "cell_type": "markdown",
   "metadata": {},
   "source": [
    "13. Write a python program to check whether a given string is palindrome or not. "
   ]
  },
  {
   "cell_type": "code",
   "execution_count": 4,
   "metadata": {},
   "outputs": [],
   "source": [
    "def is_palindrome(arg):\n",
    "    if arg == arg[::-1]:\n",
    "        print(arg, \" is a Palindrome\")\n",
    "    else:\n",
    "        print(arg, \" is not a Palindrome\")"
   ]
  },
  {
   "cell_type": "code",
   "execution_count": 5,
   "metadata": {},
   "outputs": [
    {
     "name": "stdout",
     "output_type": "stream",
     "text": [
      "smile  is not a Palindrome\n",
      "dolod  is a Palindrome\n"
     ]
    }
   ],
   "source": [
    "is_palindrome('smile')\n",
    "is_palindrome('dolod')"
   ]
  },
  {
   "cell_type": "markdown",
   "metadata": {},
   "source": [
    "14. Write a Python program to get the third side of right-angled triangle from two given sides. "
   ]
  },
  {
   "cell_type": "code",
   "execution_count": 6,
   "metadata": {},
   "outputs": [],
   "source": [
    "def pythagoras(opp,adj,hyp):\n",
    "        if opp == str(\"x\"):\n",
    "            return (\"Opposite = \" + str(((hyp**2) - (adj**2))**0.5))\n",
    "        elif adj == str(\"x\"):\n",
    "            return (\"Adjacent = \" + str(((hyp**2) - (opp**2))**0.5))\n",
    "        elif hyp == str(\"x\"):\n",
    "            return (\"Hypotenuse = \" + str(((opp**2) + (adj**2))**0.5))\n",
    "        else:\n",
    "            return \"Incorrect Entry\""
   ]
  },
  {
   "cell_type": "code",
   "execution_count": 7,
   "metadata": {},
   "outputs": [
    {
     "data": {
      "text/plain": [
       "'Adjacent = 2.8284271247461903'"
      ]
     },
     "execution_count": 7,
     "metadata": {},
     "output_type": "execute_result"
    }
   ],
   "source": [
    "pythagoras(1,2,\"x\")\n",
    "pythagoras(\"x\", 2,3)\n",
    "pythagoras(1,\"x\", 3)"
   ]
  },
  {
   "cell_type": "markdown",
   "metadata": {},
   "source": [
    "15. Write a python program to print the frequency of each of the characters present in a given string. "
   ]
  },
  {
   "cell_type": "code",
   "execution_count": 8,
   "metadata": {},
   "outputs": [
    {
     "name": "stdout",
     "output_type": "stream",
     "text": [
      "Enter a stringCorona\n",
      "Character frequency table for 'Corona' is :\n",
      " {'C': 1, 'r': 1, 'n': 1, 'o': 2, 'a': 1}\n",
      "Type of 'frequency_table' is:  <class 'dict'>\n"
     ]
    }
   ],
   "source": [
    "input_string = input(\"Enter a string\")\n",
    "\n",
    "counter = {char : input_string.count(char) for char in set(input_string)} \n",
    "\n",
    "# Show Output\n",
    "print (\"Character frequency table for '{}' is :\\n {}\".format(input_string, str(counter)))\n",
    "print (\"Type of 'frequency_table' is: \", type(counter))"
   ]
  }
 ],
 "metadata": {
  "kernelspec": {
   "display_name": "Python 3",
   "language": "python",
   "name": "python3"
  },
  "language_info": {
   "codemirror_mode": {
    "name": "ipython",
    "version": 3
   },
   "file_extension": ".py",
   "mimetype": "text/x-python",
   "name": "python",
   "nbconvert_exporter": "python",
   "pygments_lexer": "ipython3",
   "version": "3.7.4"
  }
 },
 "nbformat": 4,
 "nbformat_minor": 2
}
