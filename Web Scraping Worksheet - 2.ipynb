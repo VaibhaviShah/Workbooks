{
 "cells": [
  {
   "cell_type": "markdown",
   "metadata": {},
   "source": [
    "14. Write a python program to scrap 10 images of Rayban Sunglasses from flipkart website and save them in a directory."
   ]
  },
  {
   "cell_type": "code",
   "execution_count": 1,
   "metadata": {},
   "outputs": [],
   "source": [
    "from selenium import webdriver\n",
    "from bs4 import BeautifulSoup\n",
    "import pandas as pd\n",
    "import requests\n",
    "import urllib.request\n",
    "import shutil"
   ]
  },
  {
   "cell_type": "code",
   "execution_count": 2,
   "metadata": {},
   "outputs": [],
   "source": [
    "driver = webdriver.Chrome(\"chromedriver.exe\")"
   ]
  },
  {
   "cell_type": "code",
   "execution_count": 3,
   "metadata": {},
   "outputs": [],
   "source": [
    "image_links = []\n",
    "\n",
    "url_here = 'https://www.flipkart.com/search?q=Rayban%20Sunglasses&otracker=search&otracker1=search&marketplace=FLIPKART&as-show=on&as=off'\n",
    "driver.get(url_here)"
   ]
  },
  {
   "cell_type": "code",
   "execution_count": 4,
   "metadata": {},
   "outputs": [],
   "source": [
    "content = driver.page_source\n",
    "soup = BeautifulSoup(content)\n",
    "name = soup.findAll('div', attrs={'class':'_3ZJShS _31bMyl'}) # this varies based on ur url"
   ]
  },
  {
   "cell_type": "code",
   "execution_count": 5,
   "metadata": {},
   "outputs": [
    {
     "name": "stdout",
     "output_type": "stream",
     "text": [
      "[<div class=\"_3ZJShS _31bMyl\" style=\"padding-top:120.00%\"><img alt=\"\" class=\"_3togXc\" src=\"https://rukminim1.flixcart.com/image/329/395/jj7givk0/sunglass/h/2/h/58-0rb3025i-ray-ban-original-imaexcmg93ybdxb9.jpeg?q=50\"/></div>, <div class=\"_3ZJShS _31bMyl\" style=\"padding-top:120.00%\"><img alt=\"\" class=\"_3togXc\" src=\"https://rukminim1.flixcart.com/image/329/395/k8ho0i80/sunglass/f/j/j/56-0rb4387601-7156-ray-ban-original-imafqhhcbptjbjxj.jpeg?q=50\"/></div>, <div class=\"_3ZJShS _31bMyl\" style=\"padding-top:120.00%\"><img alt=\"\" class=\"_3togXc\" src=\"https://rukminim1.flixcart.com/image/329/395/jcnovbk0/sunglass/y/x/r/0rb344700153-53-ray-ban-original-imaffh7kgzhfqpfs.jpeg?q=50\"/></div>, <div class=\"_3ZJShS _31bMyl\" style=\"padding-top:120.00%\"><img alt=\"\" class=\"_3togXc\" src=\"https://rukminim1.flixcart.com/image/329/395/sunglass/u/g/7/0rb3342i004-58-ray-ban-63-original-imadswbuxzksdvmu.jpeg?q=50\"/></div>, <div class=\"_3ZJShS _31bMyl\" style=\"padding-top:120.00%\"><img alt=\"\" class=\"_3togXc\" src=\"https://rukminim1.flixcart.com/image/329/395/k8ho0i80/sunglass/5/d/t/50-0rb4340-ray-ban-original-imafqhhcxtbpzwhw.jpeg?q=50\"/></div>, <div class=\"_3ZJShS _31bMyl\" style=\"padding-top:120.00%\"><img alt=\"\" class=\"_3togXc\" src=\"https://rukminim1.flixcart.com/image/329/395/k8ho0i80/sunglass/k/m/k/62-0rb3025i001-5862-ray-ban-original-imafqhhcsshwqwzg.jpeg?q=50\"/></div>, <div class=\"_3ZJShS _31bMyl\" style=\"padding-top:120.00%\"><img alt=\"\" class=\"_3togXc\" src=\"https://rukminim1.flixcart.com/image/329/395/jhjg13k0/sunglass/7/b/c/55-0rb3025i088-3f55-ray-ban-original-imaf5jazzjktdnx2.jpeg?q=50\"/></div>, <div class=\"_3ZJShS _31bMyl\" style=\"padding-top:120.00%\"><img alt=\"\" class=\"_3togXc\" src=\"https://rukminim1.flixcart.com/image/329/395/k8ho0i80/sunglass/x/c/y/58-0rb3025i004-7858-ray-ban-original-imafqhhcx9epaxvx.jpeg?q=50\"/></div>, <div class=\"_3ZJShS _31bMyl\" style=\"padding-top:120.00%\"><img alt=\"\" class=\"_3togXc\" src=\"https://rukminim1.flixcart.com/image/329/395/k8ho0i80/sunglass/y/6/k/62-0rb3025i002-5862-ray-ban-original-imafqhhcktfeh2vp.jpeg?q=50\"/></div>, <div class=\"_3ZJShS _31bMyl\" style=\"padding-top:120.00%\"><img alt=\"\" class=\"_3togXc\" src=\"https://rukminim1.flixcart.com/image/329/395/jezzukw0/sunglass/5/c/3/0rb3584n-58-ray-ban-original-imaf3kgw8hdmqvfb.jpeg?q=50\"/></div>, <div class=\"_3ZJShS _31bMyl\" style=\"padding-top:120.00%\"><img alt=\"\" class=\"_3togXc\" src=\"https://rukminim1.flixcart.com/image/329/395/sunglass/3/c/h/0rb3025i-001-51-ray-ban-58-original-imadwmsxjgyk8zj5.jpeg?q=50\"/></div>, <div class=\"_3ZJShS _31bMyl\" style=\"padding-top:120.00%\"><img alt=\"\" class=\"_3togXc\" src=\"https://rukminim1.flixcart.com/image/329/395/kdga1zk0/sunglass/n/3/c/54-4414-stylish-guys-original-imafucwyvnjhxwz4.jpeg?q=50\"/></div>, <div class=\"_3ZJShS _31bMyl\" style=\"padding-top:120.00%\"><img alt=\"\" class=\"_3togXc\" src=\"https://rukminim1.flixcart.com/image/329/395/k8ho0i80/sunglass/p/t/k/54-0rb4171-ray-ban-original-imafqhhduexfsrgv.jpeg?q=50\"/></div>, <div class=\"_3ZJShS _31bMyl\" style=\"padding-top:120.00%\"><img alt=\"\" class=\"_3togXc\" src=\"https://rukminim1.flixcart.com/image/329/395/kekadu80-0/sunglass/s/t/f/0rb3025i002-3f58-58-ray-ban-original-imafv7epdvbx6ksu.jpeg?q=50\"/></div>, <div class=\"_3ZJShS _31bMyl\" style=\"padding-top:120.00%\"><img alt=\"\" class=\"_3togXc\" src=\"https://rukminim1.flixcart.com/image/329/395/k8ho0i80/sunglass/7/y/w/57-0rb4312ch601sa157-ray-ban-original-imafqhhc5mf3zzfm.jpeg?q=50\"/></div>, <div class=\"_3ZJShS _31bMyl\" style=\"padding-top:120.00%\"><img alt=\"\" class=\"_3togXc\" src=\"https://rukminim1.flixcart.com/image/329/395/sunglass/n/e/d/0rb4165601-8g-ray-ban-55-original-imadrnwpnmkgyhdy.jpeg?q=50\"/></div>, <div class=\"_3ZJShS _31bMyl\" style=\"padding-top:120.00%\"><img alt=\"\" class=\"_3togXc\" src=\"https://rukminim1.flixcart.com/image/329/395/jcgjo280/sunglass/7/v/x/0rb3025i001-5758-58-ray-ban-original-imaffh7kbchnjefk.jpeg?q=50\"/></div>, <div class=\"_3ZJShS _31bMyl\" style=\"padding-top:120.00%\"><img alt=\"\" class=\"_3togXc\" src=\"https://rukminim1.flixcart.com/image/329/395/jchz3ww0/sunglass/g/v/f/0rb35929035c655-55-ray-ban-original-imaffmybe9kjecyj.jpeg?q=50\"/></div>, <div class=\"_3ZJShS _31bMyl\" style=\"padding-top:120.00%\"><img alt=\"\" class=\"_3togXc\" src=\"https://rukminim1.flixcart.com/image/329/395/k8ho0i80/sunglass/r/r/4/58-0rb3025i112-8558-ray-ban-original-imafqhhcjhmczgrz.jpeg?q=50\"/></div>, <div class=\"_3ZJShS _31bMyl\" style=\"padding-top:120.00%\"><img alt=\"\" class=\"_3togXc\" src=\"https://rukminim1.flixcart.com/image/329/395/sunglass/5/f/8/0rb4181601-71-rayban-57-original-imadqb2uz6jq2bze.jpeg?q=50\"/></div>, <div class=\"_3ZJShS _31bMyl\" style=\"padding-top:120.00%\"><img alt=\"\" class=\"_3togXc\" src=\"https://rukminim1.flixcart.com/image/329/395/k8ho0i80/sunglass/q/r/q/55-0rb3025i003-3f55-ray-ban-original-imafqhhchzh6nwqm.jpeg?q=50\"/></div>, <div class=\"_3ZJShS _31bMyl\" style=\"padding-top:120.00%\"><img alt=\"\" class=\"_3togXc\" src=\"https://rukminim1.flixcart.com/image/329/395/k8ho0i80/sunglass/6/s/r/62-0rb8318ch004-6o62-ray-ban-original-imafqhhcggzswbpe.jpeg?q=50\"/></div>, <div class=\"_3ZJShS _31bMyl\" style=\"padding-top:120.00%\"><img alt=\"\" class=\"_3togXc\" src=\"https://rukminim1.flixcart.com/image/329/395/jggv53k0/sunglass/x/h/u/57-0rb4312ch894-6b57-ray-ban-original-imaf4p4hzrtmzbaf.jpeg?q=50\"/></div>, <div class=\"_3ZJShS _31bMyl\" style=\"padding-top:120.00%\"><img alt=\"\" class=\"_3togXc\" src=\"https://rukminim1.flixcart.com/image/329/395/kcgk1ow0/sunglass/j/d/k/54-1208-style-guru-original-imafth8gm3mmd9zy.jpeg?q=50\"/></div>, <div class=\"_3ZJShS _31bMyl\" style=\"padding-top:120.00%\"><img alt=\"\" class=\"_3togXc\" src=\"https://rukminim1.flixcart.com/image/329/395/k6ci8i80/sunglass/g/t/d/56-4287-rozdeal-original-imafjb6kzsdtdgnm.jpeg?q=50\"/></div>, <div class=\"_3ZJShS _31bMyl\" style=\"padding-top:120.00%\"><img alt=\"\" class=\"_3togXc\" src=\"https://rukminim1.flixcart.com/image/329/395/juu4jgw0/sunglass/k/c/k/55-0rb35889146-155-ray-ban-original-imaffhqbqarmveff.jpeg?q=50\"/></div>, <div class=\"_3ZJShS _31bMyl\" style=\"padding-top:120.00%\"><img alt=\"\" class=\"_3togXc\" src=\"https://rukminim1.flixcart.com/image/329/395/jchz3ww0/sunglass/d/r/d/0rb3538187-9a53-53-ray-ban-original-imaffmybsvsvjy3w.jpeg?q=50\"/></div>, <div class=\"_3ZJShS _31bMyl\" style=\"padding-top:120.00%\"><img alt=\"\" class=\"_3togXc\" src=\"https://rukminim1.flixcart.com/image/329/395/k8ho0i80/sunglass/w/r/a/52-0rb4195601s9a52-ray-ban-original-imafqhhcd3y7ge4j.jpeg?q=50\"/></div>, <div class=\"_3ZJShS _31bMyl\" style=\"padding-top:120.00%\"><img alt=\"\" class=\"_3togXc\" src=\"https://rukminim1.flixcart.com/image/329/395/j81xsi80/sunglass/j/2/y/49-0rb3016901-5849-ray-ban-original-imaey5tvm6cexgns.jpeg?q=50\"/></div>, <div class=\"_3ZJShS _31bMyl\" style=\"padding-top:120.00%\"><img alt=\"\" class=\"_3togXc\" src=\"https://rukminim1.flixcart.com/image/329/395/k8ho0i80/sunglass/x/e/h/59-0rb3449i-ray-ban-original-imafqhhdfvepeyhs.jpeg?q=50\"/></div>, <div class=\"_3ZJShS _31bMyl\" style=\"padding-top:120.00%\"><img alt=\"\" class=\"_3togXc\" src=\"https://rukminim1.flixcart.com/image/329/395/jggv53k0/sunglass/q/3/q/56-0rb83536354t556-ray-ban-original-imaf4p4hbrhvyrv8.jpeg?q=50\"/></div>, <div class=\"_3ZJShS _31bMyl\" style=\"padding-top:120.00%\"><img alt=\"\" class=\"_3togXc\" src=\"https://rukminim1.flixcart.com/image/329/395/jcp4b680/sunglass/j/d/p/0rb3025i112-1958-58-ray-ban-original-imaffh7kcha4uryu.jpeg?q=50\"/></div>, <div class=\"_3ZJShS _31bMyl\" style=\"padding-top:120.00%\"><img alt=\"\" class=\"_3togXc\" src=\"https://rukminim1.flixcart.com/image/329/395/k8ho0i80/sunglass/q/9/f/54-0rb3648002-5854-ray-ban-original-imafqhhcr9cdy2jj.jpeg?q=50\"/></div>, <div class=\"_3ZJShS _31bMyl\" style=\"padding-top:120.00%\"><img alt=\"\" class=\"_3togXc\" src=\"https://rukminim1.flixcart.com/image/329/395/jiyvvrk0/sunglass/e/z/n/49-0rb24471247p249-ray-ban-original-imaf6kwqqhjxxafb.jpeg?q=50\"/></div>, <div class=\"_3ZJShS _31bMyl\" style=\"padding-top:120.00%\"><img alt=\"\" class=\"_3togXc\" src=\"https://rukminim1.flixcart.com/image/329/395/j20qv0w0/sunglass/r/v/7/57-0rb3335i00457-ray-ban-original-imaethfq2tusg5fc.jpeg?q=50\"/></div>, <div class=\"_3ZJShS _31bMyl\" style=\"padding-top:120.00%\"><img alt=\"\" class=\"_3togXc\" src=\"https://rukminim1.flixcart.com/image/329/395/k8ho0i80/sunglass/b/z/y/60-0rb3383i00160-ray-ban-original-imafqhhcyqns2d2y.jpeg?q=50\"/></div>, <div class=\"_3ZJShS _31bMyl\" style=\"padding-top:120.00%\"><img alt=\"\" class=\"_3togXc\" src=\"https://rukminim1.flixcart.com/image/329/395/jj8vyq80/sunglass/w/x/d/55-0rb4165-ray-ban-original-imaf6sstqryqkgze.jpeg?q=50\"/></div>, <div class=\"_3ZJShS _31bMyl\" style=\"padding-top:120.00%\"><img alt=\"\" class=\"_3togXc\" src=\"https://rukminim1.flixcart.com/image/329/395/ke0a7ww0-0/sunglass/6/3/i/blkblkavi01-32-style-guru-original-imafusb7qxsgfdwq.jpeg?q=50\"/></div>, <div class=\"_3ZJShS _31bMyl\" style=\"padding-top:120.00%\"><img alt=\"\" class=\"_3togXc\" src=\"https://rukminim1.flixcart.com/image/329/395/k8ho0i80/sunglass/a/g/h/51-0rb4252i-ray-ban-original-imafqhhd3ufhm4d7.jpeg?q=50\"/></div>, <div class=\"_3ZJShS _31bMyl\" style=\"padding-top:120.00%\"><img alt=\"\" class=\"_3togXc\" src=\"https://rukminim1.flixcart.com/image/329/395/k8ho0i80/sunglass/c/5/j/58-0rb8317ch001-6b58-ray-ban-original-imafqhhcvkp6smcn.jpeg?q=50\"/></div>]\n"
     ]
    }
   ],
   "source": [
    "print(name)"
   ]
  },
  {
   "cell_type": "code",
   "execution_count": 6,
   "metadata": {},
   "outputs": [],
   "source": [
    "for a in name:\n",
    "    image_tag = a.findChildren(\"img\")\n",
    "    image_links.append((image_tag[0][\"src\"], image_tag[0][\"alt\"]))"
   ]
  },
  {
   "cell_type": "code",
   "execution_count": 7,
   "metadata": {},
   "outputs": [],
   "source": [
    "def download_image(image):\n",
    "    response = requests.get(image[0], stream=True)\n",
    "    realname = ''.join(e for e in image[1] if e.isalnum())\n",
    "    \n",
    "    file = open(\"C://Images//{}.jpg\".format(realname), 'wb')\n",
    "    \n",
    "    response.raw.decode_content = True\n",
    "    shutil.copyfileobj(response.raw, file)\n",
    "    del response"
   ]
  },
  {
   "cell_type": "code",
   "execution_count": 8,
   "metadata": {},
   "outputs": [],
   "source": [
    "for i in range(0, len(image_links)):\n",
    "    download_image(image_links[i])"
   ]
  },
  {
   "cell_type": "markdown",
   "metadata": {},
   "source": [
    "15. Write a program to scrap 20 mouses’ data which includes model name, price from www.amazon.in whose price is less than 500 and make a data frame with 2 columns “model_name”,” price” with the scraped data."
   ]
  }
 ],
 "metadata": {
  "kernelspec": {
   "display_name": "Python 3",
   "language": "python",
   "name": "python3"
  },
  "language_info": {
   "codemirror_mode": {
    "name": "ipython",
    "version": 3
   },
   "file_extension": ".py",
   "mimetype": "text/x-python",
   "name": "python",
   "nbconvert_exporter": "python",
   "pygments_lexer": "ipython3",
   "version": "3.7.4"
  }
 },
 "nbformat": 4,
 "nbformat_minor": 2
}
