{
 "cells": [
  {
   "cell_type": "code",
   "execution_count": 1,
   "metadata": {},
   "outputs": [
    {
     "name": "stdout",
     "output_type": "stream",
     "text": [
      "Enter the keyword for the image you want to search for: life\n"
     ]
    }
   ],
   "source": [
    "from selenium import webdriver \n",
    "  \n",
    "# Taking input from user \n",
    "search_string = input(\"Enter the keyword for the image you want to search for: \") \n",
    "  \n",
    "search_string = search_string.replace(' ', '+')  \n",
    "  \n",
    "browser = webdriver.Chrome('chromedriver') \n",
    "  \n",
    "for i in range(1):\n",
    "    # matched_elements = browser.get(\"https://www.google.com/search?q=\" + search_string + \"&start=\" + str(i)) \n",
    "    matched_elements = browser.get(\"https://www.google.co.in/imghp?q=\"+search_string)"
   ]
  }
 ],
 "metadata": {
  "kernelspec": {
   "display_name": "Python 3",
   "language": "python",
   "name": "python3"
  },
  "language_info": {
   "codemirror_mode": {
    "name": "ipython",
    "version": 3
   },
   "file_extension": ".py",
   "mimetype": "text/x-python",
   "name": "python",
   "nbconvert_exporter": "python",
   "pygments_lexer": "ipython3",
   "version": "3.7.4"
  }
 },
 "nbformat": 4,
 "nbformat_minor": 2
}
